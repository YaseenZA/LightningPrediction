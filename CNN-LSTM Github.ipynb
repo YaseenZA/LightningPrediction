{
 "cells": [
  {
   "cell_type": "markdown",
   "metadata": {},
   "source": [
    "# Python Source Code for CNN-LSTM model"
   ]
  },
  {
   "cell_type": "code",
   "execution_count": null,
   "metadata": {},
   "outputs": [],
   "source": [
    "model = Sequential()\n",
    "model.add(TimeDistributed(Conv2D(filters=60, kernel_size=9), input_shape=(win_length, 9, 9, 3)))\n",
    "model.add(LeakyReLU(alpha=0.001))\n",
    "model.add(TimeDistributed(Conv2D(filters=50, kernel_size=9, padding= 'same')))\n",
    "model.add(LeakyReLU(alpha=0.001)) \n",
    "model.add(TimeDistributed(Dropout(0.1)))\n",
    "model.add(TimeDistributed(Flatten()))\n",
    "model.add(LSTM(100))\n",
    "model.add(Dropout(0.1))\n",
    "model.add(Dense(100))\n",
    "model.add(LeakyReLU(alpha=0.001))\n",
    "model.add(Dense(49))\n",
    "model.add(LeakyReLU(alpha=0.001))\n",
    "model.compile(loss='mean_squared_logarithmic_error', optimizer='adam', metrics=['accuracy'])\n",
    "early_stopping = tf.keras.callbacks.EarlyStopping(monitor='val_loss', patience=5, mode='min')\n",
    "model.compile(loss=tf.losses.MeanSquaredError(),\n",
    "optimizer=tf.optimizers.Adam(),\n",
    "metrics=[tf.metrics.MeanAbsoluteError()])\n",
    "model.fit_generator(train_generator, epochs=10,\n",
    "validation_data=test_generator, shuffle=False)"
   ]
  }
 ],
 "metadata": {
  "kernelspec": {
   "display_name": "Python 3",
   "language": "python",
   "name": "python3"
  },
  "language_info": {
   "codemirror_mode": {
    "name": "ipython",
    "version": 3
   },
   "file_extension": ".py",
   "mimetype": "text/x-python",
   "name": "python",
   "nbconvert_exporter": "python",
   "pygments_lexer": "ipython3",
   "version": "3.8.5"
  }
 },
 "nbformat": 4,
 "nbformat_minor": 4
}
