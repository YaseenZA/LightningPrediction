{
 "cells": [
  {
   "cell_type": "markdown",
   "metadata": {},
   "source": [
    "# Python Source Code for ConvLSTM model"
   ]
  },
  {
   "cell_type": "code",
   "execution_count": null,
   "metadata": {},
   "outputs": [],
   "source": [
    "model = tf.keras.Sequential()\n",
    "model.add(tf.keras.layers.ConvLSTM2D(filters=20, kernel_size=(3,3), input_shape=(win_length, 9, 9, 5), return_sequences=True))\n",
    "model.add(tf.keras.layers.ConvLSTM2D(filters=20, kernel_size=(3,3), return_sequences=True))\n",
    "model.add(Flatten())\n",
    "model.add(Dense(49, activation='relu'))\n",
    "model.add(LeakyReLU(alpha=0.05))\n",
    "model.add(BatchNormalization())\n",
    "model.add(Dense(49, activation = 'relu'))\n",
    "\n",
    "early_stopping = tf.keras.callbacks.EarlyStopping(monitor='val_loss', patience=5, mode='min')\n",
    "model.compile(loss=tf.losses.MeanSquaredError(),\n",
    "optimizer=tf.optimizers.Adam(),\n",
    "metrics=[tf.metrics.MeanAbsoluteError()])\n",
    "model.fit_generator(train_generator, epochs=3, validation_data=test_generator, shuffle=False)\n"
   ]
  }
 ],
 "metadata": {
  "kernelspec": {
   "display_name": "Python 3",
   "language": "python",
   "name": "python3"
  },
  "language_info": {
   "codemirror_mode": {
    "name": "ipython",
    "version": 3
   },
   "file_extension": ".py",
   "mimetype": "text/x-python",
   "name": "python",
   "nbconvert_exporter": "python",
   "pygments_lexer": "ipython3",
   "version": "3.8.5"
  }
 },
 "nbformat": 4,
 "nbformat_minor": 4
}
